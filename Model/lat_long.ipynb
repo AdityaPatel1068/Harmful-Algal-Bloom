{
 "cells": [
  {
   "cell_type": "code",
   "execution_count": 1,
   "metadata": {},
   "outputs": [
    {
     "name": "stderr",
     "output_type": "stream",
     "text": [
      "/var/folders/f3/ngl4f6sj0kbdxphth1sf8hfw0000gn/T/ipykernel_71089/3975444501.py:6: DtypeWarning: Columns (12) have mixed types. Specify dtype option on import or set low_memory=False.\n",
      "  df_water = pd.read_csv('/Users/aditya/Desktop/HAB/Water/continuous_20240917.csv')\n",
      "/var/folders/f3/ngl4f6sj0kbdxphth1sf8hfw0000gn/T/ipykernel_71089/3975444501.py:7: DtypeWarning: Columns (7,9,13,15,17,19,21,27,29,31,33,35,37,45,49,51,53,55,57,59) have mixed types. Specify dtype option on import or set low_memory=False.\n",
      "  df_environment1 = pd.read_csv('/Users/aditya/Desktop/HAB/Environmental_Conditions/2021.csv')\n",
      "/var/folders/f3/ngl4f6sj0kbdxphth1sf8hfw0000gn/T/ipykernel_71089/3975444501.py:8: DtypeWarning: Columns (7,9,13,15,17,19,21,27,29,31,33,35,37,45,47,49,51,53,55,57,59) have mixed types. Specify dtype option on import or set low_memory=False.\n",
      "  df_environment2 = pd.read_csv('/Users/aditya/Desktop/HAB/Environmental_Conditions/2022.csv')\n",
      "/var/folders/f3/ngl4f6sj0kbdxphth1sf8hfw0000gn/T/ipykernel_71089/3975444501.py:9: DtypeWarning: Columns (7,9,13,15,17,19,21,27,29,31,33,35,37,45,49,51,53,55,59) have mixed types. Specify dtype option on import or set low_memory=False.\n",
      "  df_environment3 = pd.read_csv('/Users/aditya/Desktop/HAB/Environmental_Conditions/2023.csv')\n"
     ]
    },
    {
     "ename": "KeyError",
     "evalue": "\"None of [Index(['Latitude', 'Longitude'], dtype='object')] are in the [columns]\"",
     "output_type": "error",
     "traceback": [
      "\u001b[0;31m---------------------------------------------------------------------------\u001b[0m",
      "\u001b[0;31mKeyError\u001b[0m                                  Traceback (most recent call last)",
      "Input \u001b[0;32mIn [1]\u001b[0m, in \u001b[0;36m<cell line: 17>\u001b[0;34m()\u001b[0m\n\u001b[1;32m     15\u001b[0m \u001b[38;5;66;03m# Step 2: Extract the latitude and longitude from all three datasets\u001b[39;00m\n\u001b[1;32m     16\u001b[0m coords_water \u001b[38;5;241m=\u001b[39m df_water[[\u001b[38;5;124m'\u001b[39m\u001b[38;5;124mLatitude\u001b[39m\u001b[38;5;124m'\u001b[39m, \u001b[38;5;124m'\u001b[39m\u001b[38;5;124mLongitude\u001b[39m\u001b[38;5;124m'\u001b[39m]]\u001b[38;5;241m.\u001b[39mvalues\n\u001b[0;32m---> 17\u001b[0m coords_environment \u001b[38;5;241m=\u001b[39m \u001b[43mdf_environment\u001b[49m\u001b[43m[\u001b[49m\u001b[43m[\u001b[49m\u001b[38;5;124;43m'\u001b[39;49m\u001b[38;5;124;43mLatitude\u001b[39;49m\u001b[38;5;124;43m'\u001b[39;49m\u001b[43m,\u001b[49m\u001b[43m \u001b[49m\u001b[38;5;124;43m'\u001b[39;49m\u001b[38;5;124;43mLongitude\u001b[39;49m\u001b[38;5;124;43m'\u001b[39;49m\u001b[43m]\u001b[49m\u001b[43m]\u001b[49m\u001b[38;5;241m.\u001b[39mvalues\n\u001b[1;32m     18\u001b[0m coords_reports \u001b[38;5;241m=\u001b[39m df_reports[[\u001b[38;5;124m'\u001b[39m\u001b[38;5;124mLatitude\u001b[39m\u001b[38;5;124m'\u001b[39m, \u001b[38;5;124m'\u001b[39m\u001b[38;5;124mLongitude\u001b[39m\u001b[38;5;124m'\u001b[39m]]\u001b[38;5;241m.\u001b[39mvalues\n\u001b[1;32m     20\u001b[0m \u001b[38;5;66;03m# Combine all coordinates into one array\u001b[39;00m\n",
      "File \u001b[0;32m/Library/Frameworks/Python.framework/Versions/3.10/lib/python3.10/site-packages/pandas/core/frame.py:3811\u001b[0m, in \u001b[0;36mDataFrame.__getitem__\u001b[0;34m(self, key)\u001b[0m\n\u001b[1;32m   3809\u001b[0m     \u001b[38;5;28;01mif\u001b[39;00m is_iterator(key):\n\u001b[1;32m   3810\u001b[0m         key \u001b[38;5;241m=\u001b[39m \u001b[38;5;28mlist\u001b[39m(key)\n\u001b[0;32m-> 3811\u001b[0m     indexer \u001b[38;5;241m=\u001b[39m \u001b[38;5;28;43mself\u001b[39;49m\u001b[38;5;241;43m.\u001b[39;49m\u001b[43mcolumns\u001b[49m\u001b[38;5;241;43m.\u001b[39;49m\u001b[43m_get_indexer_strict\u001b[49m\u001b[43m(\u001b[49m\u001b[43mkey\u001b[49m\u001b[43m,\u001b[49m\u001b[43m \u001b[49m\u001b[38;5;124;43m\"\u001b[39;49m\u001b[38;5;124;43mcolumns\u001b[39;49m\u001b[38;5;124;43m\"\u001b[39;49m\u001b[43m)\u001b[49m[\u001b[38;5;241m1\u001b[39m]\n\u001b[1;32m   3813\u001b[0m \u001b[38;5;66;03m# take() does not accept boolean indexers\u001b[39;00m\n\u001b[1;32m   3814\u001b[0m \u001b[38;5;28;01mif\u001b[39;00m \u001b[38;5;28mgetattr\u001b[39m(indexer, \u001b[38;5;124m\"\u001b[39m\u001b[38;5;124mdtype\u001b[39m\u001b[38;5;124m\"\u001b[39m, \u001b[38;5;28;01mNone\u001b[39;00m) \u001b[38;5;241m==\u001b[39m \u001b[38;5;28mbool\u001b[39m:\n",
      "File \u001b[0;32m/Library/Frameworks/Python.framework/Versions/3.10/lib/python3.10/site-packages/pandas/core/indexes/base.py:6108\u001b[0m, in \u001b[0;36mIndex._get_indexer_strict\u001b[0;34m(self, key, axis_name)\u001b[0m\n\u001b[1;32m   6105\u001b[0m \u001b[38;5;28;01melse\u001b[39;00m:\n\u001b[1;32m   6106\u001b[0m     keyarr, indexer, new_indexer \u001b[38;5;241m=\u001b[39m \u001b[38;5;28mself\u001b[39m\u001b[38;5;241m.\u001b[39m_reindex_non_unique(keyarr)\n\u001b[0;32m-> 6108\u001b[0m \u001b[38;5;28;43mself\u001b[39;49m\u001b[38;5;241;43m.\u001b[39;49m\u001b[43m_raise_if_missing\u001b[49m\u001b[43m(\u001b[49m\u001b[43mkeyarr\u001b[49m\u001b[43m,\u001b[49m\u001b[43m \u001b[49m\u001b[43mindexer\u001b[49m\u001b[43m,\u001b[49m\u001b[43m \u001b[49m\u001b[43maxis_name\u001b[49m\u001b[43m)\u001b[49m\n\u001b[1;32m   6110\u001b[0m keyarr \u001b[38;5;241m=\u001b[39m \u001b[38;5;28mself\u001b[39m\u001b[38;5;241m.\u001b[39mtake(indexer)\n\u001b[1;32m   6111\u001b[0m \u001b[38;5;28;01mif\u001b[39;00m \u001b[38;5;28misinstance\u001b[39m(key, Index):\n\u001b[1;32m   6112\u001b[0m     \u001b[38;5;66;03m# GH 42790 - Preserve name from an Index\u001b[39;00m\n",
      "File \u001b[0;32m/Library/Frameworks/Python.framework/Versions/3.10/lib/python3.10/site-packages/pandas/core/indexes/base.py:6168\u001b[0m, in \u001b[0;36mIndex._raise_if_missing\u001b[0;34m(self, key, indexer, axis_name)\u001b[0m\n\u001b[1;32m   6166\u001b[0m     \u001b[38;5;28;01mif\u001b[39;00m use_interval_msg:\n\u001b[1;32m   6167\u001b[0m         key \u001b[38;5;241m=\u001b[39m \u001b[38;5;28mlist\u001b[39m(key)\n\u001b[0;32m-> 6168\u001b[0m     \u001b[38;5;28;01mraise\u001b[39;00m \u001b[38;5;167;01mKeyError\u001b[39;00m(\u001b[38;5;124mf\u001b[39m\u001b[38;5;124m\"\u001b[39m\u001b[38;5;124mNone of [\u001b[39m\u001b[38;5;132;01m{\u001b[39;00mkey\u001b[38;5;132;01m}\u001b[39;00m\u001b[38;5;124m] are in the [\u001b[39m\u001b[38;5;132;01m{\u001b[39;00maxis_name\u001b[38;5;132;01m}\u001b[39;00m\u001b[38;5;124m]\u001b[39m\u001b[38;5;124m\"\u001b[39m)\n\u001b[1;32m   6170\u001b[0m not_found \u001b[38;5;241m=\u001b[39m \u001b[38;5;28mlist\u001b[39m(ensure_index(key)[missing_mask\u001b[38;5;241m.\u001b[39mnonzero()[\u001b[38;5;241m0\u001b[39m]]\u001b[38;5;241m.\u001b[39munique())\n\u001b[1;32m   6171\u001b[0m \u001b[38;5;28;01mraise\u001b[39;00m \u001b[38;5;167;01mKeyError\u001b[39;00m(\u001b[38;5;124mf\u001b[39m\u001b[38;5;124m\"\u001b[39m\u001b[38;5;132;01m{\u001b[39;00mnot_found\u001b[38;5;132;01m}\u001b[39;00m\u001b[38;5;124m not in index\u001b[39m\u001b[38;5;124m\"\u001b[39m)\n",
      "\u001b[0;31mKeyError\u001b[0m: \"None of [Index(['Latitude', 'Longitude'], dtype='object')] are in the [columns]\""
     ]
    }
   ],
   "source": [
    "import pandas as pd\n",
    "from sklearn.cluster import DBSCAN\n",
    "import numpy as np\n",
    "\n",
    "# Load your datasets\n",
    "df_water = pd.read_csv('/Users/aditya/Desktop/HAB/Water/continuous_20240917.csv')\n",
    "df_environment1 = pd.read_csv('/Users/aditya/Desktop/HAB/Environmental_Conditions/2021.csv')\n",
    "df_environment2 = pd.read_csv('/Users/aditya/Desktop/HAB/Environmental_Conditions/2022.csv')\n",
    "df_environment3 = pd.read_csv('/Users/aditya/Desktop/HAB/Environmental_Conditions/2023.csv')\n",
    "df_reports = pd.read_csv('/Users/aditya/Desktop/HAB/HAB Report/HAB Data Download (2021-2023).csv')\n",
    "\n",
    "# Step 1: Merge the environmental datasets into one\n",
    "df_environment = pd.concat([df_environment1, df_environment2, df_environment3])\n",
    "\n",
    "# Step 2: Extract the latitude and longitude from all three datasets\n",
    "coords_water = df_water[['Latitude', 'Longitude']].values\n",
    "coords_environment = df_environment[['Latitude', 'Longitude']].values\n",
    "coords_reports = df_reports[['Latitude', 'Longitude']].values\n",
    "\n",
    "# Combine all coordinates into one array\n",
    "combined_coords = np.vstack([coords_water, coords_environment, coords_reports])\n",
    "\n",
    "# Step 3: Apply DBSCAN clustering (tune the eps parameter as needed)\n",
    "db = DBSCAN(eps=0.01, min_samples=3).fit(combined_coords)\n",
    "\n",
    "# Step 4: Assign clusters to each dataset\n",
    "df_water['Cluster'] = db.labels_[:len(coords_water)]\n",
    "df_environment['Cluster'] = db.labels_[len(coords_water):len(coords_water) + len(coords_environment)]\n",
    "df_reports['Cluster'] = db.labels_[len(coords_water) + len(coords_environment):]\n",
    "\n",
    "# Step 5: Map clusters to lake names (this can be done manually or programmatically if you have lake data)\n",
    "# For example, here’s a sample mapping (replace with actual lake names if known)\n",
    "cluster_to_lake = {\n",
    "    0: 'Lake A',\n",
    "    1: 'Lake B',\n",
    "    2: 'Lake C',\n",
    "    # Add more clusters here\n",
    "}\n",
    "\n",
    "# Step 6: Map the clusters to the lake names\n",
    "df_water['Lake'] = df_water['Cluster'].map(cluster_to_lake).fillna('Unknown Lake')\n",
    "df_environment['Lake'] = df_environment['Cluster'].map(cluster_to_lake).fillna('Unknown Lake')\n",
    "df_reports['Lake'] = df_reports['Cluster'].map(cluster_to_lake).fillna('Unknown Lake')\n",
    "\n",
    "# Step 7: Combine the data from the three datasets into a single table with the Lake column\n",
    "df_combined = pd.concat([df_water, df_environment, df_reports])\n",
    "\n",
    "# View the result\n",
    "df_combined.head()\n"
   ]
  }
 ],
 "metadata": {
  "kernelspec": {
   "display_name": "Python 3",
   "language": "python",
   "name": "python3"
  },
  "language_info": {
   "codemirror_mode": {
    "name": "ipython",
    "version": 3
   },
   "file_extension": ".py",
   "mimetype": "text/x-python",
   "name": "python",
   "nbconvert_exporter": "python",
   "pygments_lexer": "ipython3",
   "version": "3.10.4"
  }
 },
 "nbformat": 4,
 "nbformat_minor": 2
}
